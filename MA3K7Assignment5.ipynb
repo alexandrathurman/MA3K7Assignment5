{
 "cells": [
  {
   "cell_type": "code",
   "execution_count": 1,
   "id": "17c82719-3467-414f-b86b-e914a9d8d7bd",
   "metadata": {},
   "outputs": [],
   "source": [
    "import numpy as np\n",
    "import matplotlib.pyplot as plt"
   ]
  },
  {
   "cell_type": "markdown",
   "id": "54d2faa7-7e39-4689-a104-350077cec60a",
   "metadata": {},
   "source": [
    "This is a function to create the spiral."
   ]
  },
  {
   "cell_type": "code",
   "execution_count": 16,
   "id": "c765081e-0b12-439e-b7d5-5d5ab0c86169",
   "metadata": {},
   "outputs": [],
   "source": [
    "NORTH, S, W, E = (0, -1), (0, 1), (-1, 0), (1, 0) # directions\n",
    "turn_right = {NORTH: E, E: S, S: W, W: NORTH} # old -> new direction\n",
    "\n",
    "def spiral(n):\n",
    "    if n < 1 or n % 2 == 0:\n",
    "        return 'You can only input odd numbers, please try again.'\n",
    "    x, y = n // 2, n // 2\n",
    "    dx, dy = NORTH \n",
    "    matrix = [[None] * n for _ in range(n)]\n",
    "    count = 0\n",
    "    while True:\n",
    "        count += 1\n",
    "        matrix[y][x] = count \n",
    "        new_dx, new_dy = turn_right[dx,dy]\n",
    "        new_x, new_y = x + new_dx, y + new_dy\n",
    "        if (0 <= new_x < n and 0 <= new_y < n and\n",
    "            matrix[new_y][new_x] is None):\n",
    "            x, y = new_x, new_y\n",
    "            dx, dy = new_dx, new_dy\n",
    "        else: \n",
    "            x, y = x + dx, y + dy\n",
    "            if not (0 <= x < n and 0 <= y < n):\n",
    "                return matrix "
   ]
  },
  {
   "cell_type": "markdown",
   "id": "b5bf8739-59dd-4116-b81c-0256f538dd97",
   "metadata": {},
   "source": [
    "This function adds the elements of the bottom right diagonal to an array and prints them."
   ]
  },
  {
   "cell_type": "code",
   "execution_count": 3,
   "id": "a92fa9ce-1748-41fd-b1f9-65cd5f95c05a",
   "metadata": {},
   "outputs": [],
   "source": [
    "def bottom_right_diagonal(matrix):\n",
    "    n = len(matrix)\n",
    "    diagonals = []\n",
    "    for i in range(n):\n",
    "        for j in range(n):\n",
    "            if i == n - j - 1 and i <= n // 2: \n",
    "                diagonal_element = matrix[i][j]\n",
    "                \n",
    "                diagonals.append(diagonal_element)\n",
    "    print(f\"The bottom right diagonal in the {n} x {n} matrix is:\",diagonals)"
   ]
  },
  {
   "cell_type": "markdown",
   "id": "ec158f2a-b0e1-4a83-99ff-e2362200cb5c",
   "metadata": {},
   "source": [
    "## Elements in the botton right diagonal"
   ]
  },
  {
   "cell_type": "code",
   "execution_count": 4,
   "id": "617ffd08-19ac-49cd-afc6-c81afdcbb5e6",
   "metadata": {},
   "outputs": [
    {
     "name": "stdout",
     "output_type": "stream",
     "text": [
      "The bottom right diagonal in the 3 x 3 matrix is: [9, 1]\n",
      "The bottom right diagonal in the 5 x 5 matrix is: [25, 9, 1]\n",
      "The bottom right diagonal in the 7 x 7 matrix is: [49, 25, 9, 1]\n",
      "The bottom right diagonal in the 9 x 9 matrix is: [81, 49, 25, 9, 1]\n"
     ]
    }
   ],
   "source": [
    "bottom_right_diagonal(spiral(3))\n",
    "bottom_right_diagonal(spiral(5))\n",
    "bottom_right_diagonal(spiral(7))\n",
    "bottom_right_diagonal(spiral(9))"
   ]
  },
  {
   "cell_type": "code",
   "execution_count": 5,
   "id": "9529e792-2d17-45e4-8682-4f45d005b6d1",
   "metadata": {},
   "outputs": [],
   "source": [
    "def top_left_diagonal(matrix):\n",
    "    n = len(matrix)\n",
    "    diagonals = []\n",
    "    for i in range(n):\n",
    "        for j in range(n):\n",
    "            if i == n - j - 1  and i >= n // 2: \n",
    "                diagonal_element = matrix[i][j]\n",
    "                \n",
    "                diagonals.append(diagonal_element)\n",
    "    print(f\"The top left diagonal in the {n} x {n} matrix is:\",diagonals)"
   ]
  },
  {
   "cell_type": "markdown",
   "id": "564f0aad-be77-4e39-b628-d31083eb7788",
   "metadata": {},
   "source": [
    "## Elements in the top left diagonal"
   ]
  },
  {
   "cell_type": "code",
   "execution_count": 6,
   "id": "c4de88af-afbf-4849-ada1-9780067eaa15",
   "metadata": {},
   "outputs": [
    {
     "name": "stdout",
     "output_type": "stream",
     "text": [
      "The top left diagonal in the 9 x 9 matrix is: [1, 5, 17, 37, 65]\n"
     ]
    }
   ],
   "source": [
    "top_left_diagonal(spiral(9))"
   ]
  },
  {
   "cell_type": "markdown",
   "id": "caaf82d5-d79f-43dc-a45e-573e80de9165",
   "metadata": {},
   "source": [
    "This code puts all the elements from the diagonals of a spiral into an array and adds them all together."
   ]
  },
  {
   "cell_type": "code",
   "execution_count": 7,
   "id": "b71f9467-3c70-47cc-b2dd-5b209999a7bf",
   "metadata": {},
   "outputs": [],
   "source": [
    "def sum_diagonals(matrix):\n",
    "    n = len(matrix)\n",
    "    diagonals = []\n",
    "    for i in range(n):\n",
    "        for j in range(n):\n",
    "            if i == n - j - 1 and i <= n // 2: \n",
    "                diagonal_element = matrix[i][j]\n",
    "                if diagonal_element not in diagonals:\n",
    "                    diagonals.append(diagonal_element)\n",
    "                \n",
    "    for i in range(n):\n",
    "        for j in range(n):\n",
    "            if i == j and i <= n // 2: \n",
    "                diagonal_element = matrix[i][j]\n",
    "                if diagonal_element not in diagonals:\n",
    "                    diagonals.append(diagonal_element)\n",
    "    \n",
    "    for i in range(n):\n",
    "        for j in range(n):\n",
    "            if i == j  and i >= n // 2: \n",
    "                diagonal_element = matrix[i][j]\n",
    "                if diagonal_element not in diagonals:\n",
    "                    diagonals.append(diagonal_element)\n",
    "                \n",
    "    for i in range(n):\n",
    "        for j in range(n):\n",
    "            if i == n - j - 1  and i >= n // 2: \n",
    "                diagonal_element = matrix[i][j]\n",
    "                if diagonal_element not in diagonals:\n",
    "                    diagonals.append(diagonal_element)\n",
    "    total = sum(diagonals)\n",
    "    \n",
    "    return total"
   ]
  },
  {
   "cell_type": "markdown",
   "id": "e6747a22-41a1-477f-bf4c-1072d91d43be",
   "metadata": {},
   "source": [
    "## Sum of diagonals in $101 \\times 101$ spiral"
   ]
  },
  {
   "cell_type": "code",
   "execution_count": 8,
   "id": "e6748859-3ee3-426b-9ab2-326fa83c5652",
   "metadata": {},
   "outputs": [
    {
     "name": "stdout",
     "output_type": "stream",
     "text": [
      "692101\n"
     ]
    }
   ],
   "source": [
    "print(sum_diagonals(spiral(101)))"
   ]
  },
  {
   "cell_type": "code",
   "execution_count": 9,
   "id": "ae0f6580-3020-43e7-9c69-387f313308b3",
   "metadata": {},
   "outputs": [],
   "source": [
    "odds = []\n",
    "for num in range(1, 102):\n",
    "    if num % 2 != 0:\n",
    "        odds.append(num)"
   ]
  },
  {
   "cell_type": "markdown",
   "id": "cfdda078-44e1-43dd-9811-469c3f24fa68",
   "metadata": {},
   "source": [
    "This code plots the sum of the diagonals against the size of the array."
   ]
  },
  {
   "cell_type": "code",
   "execution_count": 10,
   "id": "1b4684f2-cc7c-46e0-adb6-10e608908adc",
   "metadata": {},
   "outputs": [
    {
     "data": {
      "image/png": "[encoded data removed]",
      "text/plain": [
       "<Figure size 432x288 with 1 Axes>"
      ]
     },
     "metadata": {
      "needs_background": "light"
     },
     "output_type": "display_data"
    }
   ],
   "source": [
    "sums = []\n",
    "for num in odds:\n",
    "    sums.append(sum_diagonals(spiral(num)))\n",
    "\n",
    "# Plot the sums of the diagonals\n",
    "plt.plot(odds, sums)\n",
    "plt.xlabel('Size of the spiral')\n",
    "plt.ylabel('Sum of the diagonals')\n",
    "plt.title('Sum of the diagonals in a spiral')\n",
    "plt.show()\n"
   ]
  },
  {
   "cell_type": "markdown",
   "id": "2dc8b8c5-65ab-4ed3-8c07-3889f5a2ffb9",
   "metadata": {},
   "source": [
    "This function prints the spiral"
   ]
  },
  {
   "cell_type": "code",
   "execution_count": 11,
   "id": "46760e60-3690-49a1-aed8-47d9e3ec983a",
   "metadata": {},
   "outputs": [],
   "source": [
    "def swap_rows(matrix):\n",
    "    n = len(matrix)\n",
    "    for i in range(n//2):\n",
    "        matrix[i], matrix[n-i-1] = matrix[n-i-1], matrix[i]\n",
    "    return matrix\n",
    "\n",
    "def print_matrix(matrix):\n",
    "    matrix = swap_rows(matrix)\n",
    "    width = len(str(max(el for row in matrix for el in row if el is not None)))\n",
    "    fmt = \"{:0%dd}\" % width\n",
    "    for row in matrix:\n",
    "        print(\" \".join(\"_\"*width if el is None else fmt.format(el) for el in row))\n"
   ]
  },
  {
   "cell_type": "markdown",
   "id": "a6d5fc17-b5c0-48de-a5b6-0438965fd845",
   "metadata": {},
   "source": [
    "## $3 \\times 3$ spiral"
   ]
  },
  {
   "cell_type": "code",
   "execution_count": 12,
   "id": "4a5129c3-640b-440d-987f-2ec8f9eb91f6",
   "metadata": {},
   "outputs": [
    {
     "name": "stdout",
     "output_type": "stream",
     "text": [
      "5 4 3\n",
      "6 1 2\n",
      "7 8 9\n"
     ]
    }
   ],
   "source": [
    "print_matrix(spiral(3))"
   ]
  },
  {
   "cell_type": "markdown",
   "id": "e5bb97a1-b349-46de-ae0e-114c25bc209b",
   "metadata": {},
   "source": [
    "## $5 \\times 5$ spiral"
   ]
  },
  {
   "cell_type": "code",
   "execution_count": 15,
   "id": "ebff0993-858d-469f-bf84-b35d7e7d09d6",
   "metadata": {},
   "outputs": [
    {
     "name": "stdout",
     "output_type": "stream",
     "text": [
      "17 16 15 14 13\n",
      "18 05 04 03 12\n",
      "19 06 01 02 11\n",
      "20 07 08 09 10\n",
      "21 22 23 24 25\n"
     ]
    }
   ],
   "source": [
    "print_matrix(spiral(5))"
   ]
  },
  {
   "cell_type": "markdown",
   "id": "db1c9a8f-ffc5-4ad7-af78-3f94a16475c9",
   "metadata": {},
   "source": [
    "## $21 \\times 21$ spiral"
   ]
  },
  {
   "cell_type": "code",
   "execution_count": 14,
   "id": "a75e76eb-df05-4f5e-9f98-89cb5e43ec9d",
   "metadata": {},
   "outputs": [
    {
     "name": "stdout",
     "output_type": "stream",
     "text": [
      "401 400 399 398 397 396 395 394 393 392 391 390 389 388 387 386 385 384 383 382 381\n",
      "402 325 324 323 322 321 320 319 318 317 316 315 314 313 312 311 310 309 308 307 380\n",
      "403 326 257 256 255 254 253 252 251 250 249 248 247 246 245 244 243 242 241 306 379\n",
      "404 327 258 197 196 195 194 193 192 191 190 189 188 187 186 185 184 183 240 305 378\n",
      "405 328 259 198 145 144 143 142 141 140 139 138 137 136 135 134 133 182 239 304 377\n",
      "406 329 260 199 146 101 100 099 098 097 096 095 094 093 092 091 132 181 238 303 376\n",
      "407 330 261 200 147 102 065 064 063 062 061 060 059 058 057 090 131 180 237 302 375\n",
      "408 331 262 201 148 103 066 037 036 035 034 033 032 031 056 089 130 179 236 301 374\n",
      "409 332 263 202 149 104 067 038 017 016 015 014 013 030 055 088 129 178 235 300 373\n",
      "410 333 264 203 150 105 068 039 018 005 004 003 012 029 054 087 128 177 234 299 372\n",
      "411 334 265 204 151 106 069 040 019 006 001 002 011 028 053 086 127 176 233 298 371\n",
      "412 335 266 205 152 107 070 041 020 007 008 009 010 027 052 085 126 175 232 297 370\n",
      "413 336 267 206 153 108 071 042 021 022 023 024 025 026 051 084 125 174 231 296 369\n",
      "414 337 268 207 154 109 072 043 044 045 046 047 048 049 050 083 124 173 230 295 368\n",
      "415 338 269 208 155 110 073 074 075 076 077 078 079 080 081 082 123 172 229 294 367\n",
      "416 339 270 209 156 111 112 113 114 115 116 117 118 119 120 121 122 171 228 293 366\n",
      "417 340 271 210 157 158 159 160 161 162 163 164 165 166 167 168 169 170 227 292 365\n",
      "418 341 272 211 212 213 214 215 216 217 218 219 220 221 222 223 224 225 226 291 364\n",
      "419 342 273 274 275 276 277 278 279 280 281 282 283 284 285 286 287 288 289 290 363\n",
      "420 343 344 345 346 347 348 349 350 351 352 353 354 355 356 357 358 359 360 361 362\n",
      "421 422 423 424 425 426 427 428 429 430 431 432 433 434 435 436 437 438 439 440 441\n"
     ]
    }
   ],
   "source": [
    "print_matrix(spiral(21))"
   ]
  },
  {
   "cell_type": "code",
   "execution_count": null,
   "id": "781c666f-7724-40e7-8594-54dd6c895853",
   "metadata": {},
   "outputs": [],
   "source": []
  }
 ],
 "metadata": {
  "kernelspec": {
   "display_name": "Python 3 (ipykernel)",
   "language": "python",
   "name": "python3"
  },
  "language_info": {
   "codemirror_mode": {
    "name": "ipython",
    "version": 3
   },
   "file_extension": ".py",
   "mimetype": "text/x-python",
   "name": "python",
   "nbconvert_exporter": "python",
   "pygments_lexer": "ipython3",
   "version": "3.9.7"
  }
 },
 "nbformat": 4,
 "nbformat_minor": 5
}
